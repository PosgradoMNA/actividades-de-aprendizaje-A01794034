{
 "cells": [
  {
   "cell_type": "markdown",
   "id": "31c027a4",
   "metadata": {},
   "source": [
    "# Fabito\n",
    "## Fabito\n",
    "*Fabito*\n",
    "\n",
    "**fabito**\n"
   ]
  },
  {
   "cell_type": "code",
   "execution_count": 1,
   "id": "d1f0fe98",
   "metadata": {},
   "outputs": [
    {
     "name": "stdout",
     "output_type": "stream",
     "text": [
      "Fabito\n"
     ]
    }
   ],
   "source": [
    "print (\"Fabito\")"
   ]
  },
  {
   "cell_type": "code",
   "execution_count": 2,
   "id": "b1f5d1ba",
   "metadata": {},
   "outputs": [
    {
     "name": "stdout",
     "output_type": "stream",
     "text": [
      "Uichhhh\n"
     ]
    }
   ],
   "source": [
    "print (\"Uichhhh\")"
   ]
  },
  {
   "cell_type": "code",
   "execution_count": 4,
   "id": "71c12959",
   "metadata": {},
   "outputs": [
    {
     "name": "stdout",
     "output_type": "stream",
     "text": [
      "6\n"
     ]
    }
   ],
   "source": [
    "n=2\n",
    "y=4\n",
    "\n",
    "J=n+y\n",
    "\n",
    "print (J)\n"
   ]
  },
  {
   "cell_type": "markdown",
   "id": "2d237fea",
   "metadata": {},
   "source": []
  }
 ],
 "metadata": {
  "kernelspec": {
   "display_name": "Python 3 (ipykernel)",
   "language": "python",
   "name": "python3"
  },
  "language_info": {
   "codemirror_mode": {
    "name": "ipython",
    "version": 3
   },
   "file_extension": ".py",
   "mimetype": "text/x-python",
   "name": "python",
   "nbconvert_exporter": "python",
   "pygments_lexer": "ipython3",
   "version": "3.10.5"
  }
 },
 "nbformat": 4,
 "nbformat_minor": 5
}
